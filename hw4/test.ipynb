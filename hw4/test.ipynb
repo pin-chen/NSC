{
 "cells": [
  {
   "cell_type": "code",
   "execution_count": 1,
   "id": "09a73d7b",
   "metadata": {},
   "outputs": [],
   "source": [
    "from testdata import testdata\n",
    "from ans_ospf import ans_ospf\n",
    "from ans_rip import ans_rip\n",
    "from main import run_rip, run_ospf"
   ]
  },
  {
   "cell_type": "code",
   "execution_count": 2,
   "id": "ae9627cb",
   "metadata": {},
   "outputs": [],
   "source": [
    "sample_testdata = [\n",
    "    [  0,   2,   5,   1, 999, 999],\n",
    "    [  2,   0,   3,   2, 999, 999],\n",
    "    [  5,   3,   0,   3,   1,   5],\n",
    "    [  1,   2,   3,   0,   1, 999],\n",
    "    [999, 999,   1,   1,   0,   2],\n",
    "    [999, 999,   5, 999,   2,   0]\n",
    "]\n",
    "\n",
    "sample_ans_ospf = (\n",
    "    [[0, 2, 3, 1, 2, 4],\n",
    "     [2, 0, 3, 2, 3, 5],\n",
    "     [3, 3, 0, 2, 1, 3],\n",
    "     [1, 2, 2, 0, 1, 3],\n",
    "     [2, 3, 1, 1, 0, 2],\n",
    "     [4, 5, 3, 3, 2, 0]],\n",
    "    \n",
    "    [(0, 0, 1), (0, 0, 2), (0, 0, 3),\n",
    "     (1, 1, 0), (1, 1, 2), (1, 1, 3),\n",
    "     (2, 2, 0), (2, 2, 1), (2, 2, 3),\n",
    "     (2, 2, 4), (2, 2, 5), (3, 3, 0),\n",
    "     (3, 3, 1), (3, 3, 2), (3, 3, 4),\n",
    "     (4, 4, 2), (4, 4, 3), (4, 4, 5),\n",
    "     (5, 5, 2), (5, 5, 4), (2, 0, 4),\n",
    "     (2, 0, 5), (2, 1, 4), (2, 1, 5),\n",
    "     (2, 3, 5), (2, 4, 0), (2, 4, 1),\n",
    "     (2, 5, 0), (2, 5, 1), (2, 5, 3)]\n",
    ")\n",
    "\n",
    "sample_ans_rip = (\n",
    "    [[0, 2, 3, 1, 2, 4],\n",
    "     [2, 0, 3, 2, 3, 5],\n",
    "     [3, 3, 0, 2, 1, 3],\n",
    "     [1, 2, 2, 0, 1, 3],\n",
    "     [2, 3, 1, 1, 0, 2],\n",
    "     [4, 5, 3, 3, 2, 0]],\n",
    "    \n",
    "    [(0, 1), (0, 2), (0, 3), (1, 0),\n",
    "     (1, 2), (1, 3), (2, 0), (2, 1),\n",
    "     (2, 3), (2, 4), (2, 5), (3, 0),\n",
    "     (3, 1), (3, 2), (3, 4), (4, 2),\n",
    "     (4, 3), (4, 5), (5, 2), (5, 4),\n",
    "     (0, 1), (0, 2), (0, 3), (1, 0),\n",
    "     (1, 2), (1, 3), (2, 0), (2, 1),\n",
    "     (2, 3), (2, 4), (2, 5), (3, 0),\n",
    "     (3, 1), (3, 2), (3, 4), (4, 2),\n",
    "     (4, 3), (4, 5), (5, 2), (5, 4),\n",
    "     (0, 1), (0, 2), (0, 3), (1, 0),\n",
    "     (1, 2), (1, 3), (2, 0), (2, 1),\n",
    "     (2, 3), (2, 4), (2, 5), (5, 2),\n",
    "     (5, 4)]\n",
    ")"
   ]
  },
  {
   "cell_type": "code",
   "execution_count": 3,
   "id": "34099fe0",
   "metadata": {},
   "outputs": [
    {
     "name": "stdout",
     "output_type": "stream",
     "text": [
      "Sample Case:\n",
      "Corret OSPF ANS1!\n",
      "Corret OSPF ANS2!\n",
      "Corret RIP ANS1!\n",
      "Corret RIP ANS2!\n"
     ]
    }
   ],
   "source": [
    "print(\"Sample Case:\")\n",
    "ans = run_ospf(sample_testdata)\n",
    "if ans[0] == sample_ans_ospf[0]:\n",
    "    print(\"Corret OSPF ANS1!\")\n",
    "else:\n",
    "    print(\"Wrong OSPF ANS1!\")\n",
    "if ans[1] == sample_ans_ospf[1]:\n",
    "    print(\"Corret OSPF ANS2!\")\n",
    "else:\n",
    "    print(\"Wrong OSPF ANS2!\")\n",
    "\n",
    "ans = run_rip(sample_testdata)\n",
    "if ans[0] == sample_ans_rip[0]:\n",
    "    print(\"Corret RIP ANS1!\")\n",
    "else:\n",
    "    print(\"Wrong RIP ANS1!\")\n",
    "if ans[1] == sample_ans_rip[1]:\n",
    "    print(\"Corret RIP ANS2!\")\n",
    "else:\n",
    "    print(\"Wrong RIP ANS2!\")"
   ]
  },
  {
   "cell_type": "code",
   "execution_count": 4,
   "id": "78213939",
   "metadata": {},
   "outputs": [
    {
     "name": "stdout",
     "output_type": "stream",
     "text": [
      "2\n"
     ]
    }
   ],
   "source": [
    "n = len(testdata)\n",
    "print(n)"
   ]
  },
  {
   "cell_type": "code",
   "execution_count": 5,
   "id": "78b11c45",
   "metadata": {},
   "outputs": [
    {
     "name": "stdout",
     "output_type": "stream",
     "text": [
      "Case: 0\n",
      "Corret OSPF ANS1!\n",
      "Corret OSPF ANS2!\n",
      "Corret RIP ANS1!\n",
      "Corret RIP ANS2!\n",
      "Case: 1\n",
      "Corret OSPF ANS1!\n",
      "Corret OSPF ANS2!\n",
      "Corret RIP ANS1!\n",
      "Corret RIP ANS2!\n"
     ]
    }
   ],
   "source": [
    "for i in range(n):\n",
    "    print(\"Case:\", i)\n",
    "    \n",
    "    ans = run_ospf(testdata[i])\n",
    "    if ans[0] == ans_ospf[i][0]:\n",
    "        print(\"Corret OSPF ANS1!\")\n",
    "    else:\n",
    "        print(ans[0])\n",
    "        print(ans_ospf[i][0])\n",
    "        print(\"Wrong OSPF ANS1!\")\n",
    "    if ans[1] == ans_ospf[i][1]:\n",
    "        print(\"Corret OSPF ANS2!\")\n",
    "    else:\n",
    "        print(ans[1])\n",
    "        print(ans_ospf[i][1])\n",
    "        print(\"Wrong OSPF ANS2!\")\n",
    "\n",
    "    ans = run_rip(testdata[i])\n",
    "    if ans[0] == ans_rip[i][0]:\n",
    "        print(\"Corret RIP ANS1!\")\n",
    "    else:\n",
    "        print(ans[0])\n",
    "        print(ans_rip[i][0])\n",
    "        print(\"Wrong RIP ANS1!\")\n",
    "    \n",
    "    if ans[1] == ans_rip[i][1]:\n",
    "        print(\"Corret RIP ANS2!\")\n",
    "    else:\n",
    "        print(ans[1])\n",
    "        print(ans_rip[i][1])\n",
    "        print(\"Wrong RIP ANS2!\")"
   ]
  },
  {
   "cell_type": "code",
   "execution_count": null,
   "id": "c4c0084f",
   "metadata": {},
   "outputs": [],
   "source": []
  }
 ],
 "metadata": {
  "kernelspec": {
   "display_name": "Python 3 (ipykernel)",
   "language": "python",
   "name": "python3"
  },
  "language_info": {
   "codemirror_mode": {
    "name": "ipython",
    "version": 3
   },
   "file_extension": ".py",
   "mimetype": "text/x-python",
   "name": "python",
   "nbconvert_exporter": "python",
   "pygments_lexer": "ipython3",
   "version": "3.10.6"
  }
 },
 "nbformat": 4,
 "nbformat_minor": 5
}
